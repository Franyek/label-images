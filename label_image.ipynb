{
 "cells": [
  {
   "cell_type": "code",
   "execution_count": 1,
   "outputs": [],
   "source": [
    "# Import modules\n",
    "import json\n",
    "\n",
    "import numpy as np\n",
    "import tensorflow as tf\n",
    "import cv2\n"
   ],
   "metadata": {
    "collapsed": false,
    "pycharm": {
     "name": "#%%\n",
     "is_executing": false
    }
   }
  },
  {
   "cell_type": "code",
   "execution_count": 2,
   "outputs": [],
   "source": [
    "# Utilities\n",
    "\n",
    "def load_labelmap(path):\n",
    "    with open(path, \"r\") as d:\n",
    "        label_dict = json.load(d)\n",
    "    return label_dict\n",
    "\n",
    "\n",
    "def convert_output(inference_result:dict):\n",
    "    num_detections = int(inference_result.pop('num_detections'))\n",
    "    output_dict = {key: value[0, :num_detections].numpy() for key, value in inference_result.items()}\n",
    "    output_dict['num_detections'] = num_detections\n",
    "\n",
    "    output_dict['detection_classes'] = output_dict['detection_classes'].astype(np.int64)\n",
    "\n",
    "    output = []\n",
    "    for index, detection_score in enumerate(output_dict['detection_scores']):\n",
    "        if detection_score >= .5:\n",
    "            output.append(\n",
    "                {\n",
    "                    \"DETECTION_SCORE\": float(detection_score),\n",
    "                    \"DETECTION_CLASS\": category_index[str(output_dict[\"detection_classes\"][index])],\n",
    "                    \"DETECTION_COORDINATES\": list([float(cord) for cord in output_dict[\"detection_boxes\"][index]])\n",
    "                }\n",
    "            )\n",
    "    return output\n"
   ],
   "metadata": {
    "collapsed": false,
    "pycharm": {
     "name": "#%%\n",
     "is_executing": false
    }
   }
  },
  {
   "cell_type": "code",
   "execution_count": 3,
   "outputs": [
    {
     "name": "stdout",
     "text": [
      "INFO:tensorflow:Saver not created because there are no variables in the graph to restore\n"
     ],
     "output_type": "stream"
    }
   ],
   "source": [
    "# Load model and labels\n",
    "category_index = load_labelmap(\"street_labels.json\")\n",
    "\n",
    "model = tf.saved_model.load(\"C:\\\\DEV\\\\repos\\\\label-images\\\\keras_dataset\\\\ssd_mobilenet_v1_fpn_shared_box_predictor_640x640_coco14_sync_2018_07_03\\\\saved_model\")\n",
    "model = model.signatures['serving_default']"
   ],
   "metadata": {
    "collapsed": false,
    "pycharm": {
     "name": "#%%\n",
     "is_executing": false
    }
   }
  },
  {
   "cell_type": "code",
   "execution_count": 4,
   "outputs": [],
   "source": [
    "# Inference\n",
    "image = cv2.imread(\"C:\\\\DEV\\\\repos\\\\label-images\\\\test_data\\\\IMG_3094.JPG\")\n",
    "input_tensor = tf.convert_to_tensor(image)\n",
    "input_tensor = input_tensor[tf.newaxis, ...]\n",
    "\n",
    "output_dict = model(input_tensor)\n",
    "box_list = convert_output(output_dict)"
   ],
   "metadata": {
    "collapsed": false,
    "pycharm": {
     "name": "#%%\n",
     "is_executing": false
    }
   }
  },
  {
   "cell_type": "code",
   "execution_count": null,
   "outputs": [],
   "source": [
    "height, wide, _ = image.shape\n",
    "for box in box_list:\n",
    "    coordinates = box[\"DETECTION_COORDINATES\"]\n",
    "    y1 = int(coordinates[0] * height)\n",
    "    x1 = int(coordinates[1] * wide)\n",
    "    y2 = int(coordinates[2] * height)\n",
    "    x2 = int(coordinates[3] * wide)\n",
    "\n",
    "    cv2.rectangle(image, (x2, y2), (x1, y1), (255, 0, 0), 2)\n",
    "    cv2.putText(image, box[\"DETECTION_CLASS\"], (x1, y1-10), cv2.FONT_HERSHEY_SIMPLEX, 0.9, (255, 0, 0), 2)\n",
    "\n",
    "cv2.imshow(\"test\", image)\n",
    "cv2.waitKey()\n"
   ],
   "metadata": {
    "collapsed": false,
    "pycharm": {
     "name": "#%%\n",
     "is_executing": true
    }
   }
  }
 ],
 "metadata": {
  "language_info": {
   "codemirror_mode": {
    "name": "ipython",
    "version": 2
   },
   "file_extension": ".py",
   "mimetype": "text/x-python",
   "name": "python",
   "nbconvert_exporter": "python",
   "pygments_lexer": "ipython2",
   "version": "2.7.6"
  },
  "kernelspec": {
   "name": "python3",
   "language": "python",
   "display_name": "Python 3"
  },
  "pycharm": {
   "stem_cell": {
    "cell_type": "raw",
    "source": [],
    "metadata": {
     "collapsed": false
    }
   }
  }
 },
 "nbformat": 4,
 "nbformat_minor": 0
}